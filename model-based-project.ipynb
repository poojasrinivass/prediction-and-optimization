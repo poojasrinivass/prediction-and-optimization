{
 "cells": [
  {
   "cell_type": "code",
   "execution_count": 20,
   "metadata": {},
   "outputs": [],
   "source": [
    "import pandas as pd\n",
    "from sklearn.model_selection import train_test_split\n",
    "from sklearn.multioutput import MultiOutputRegressor\n",
    "import keras\n",
    "from keras import layers\n",
    "from keras.models import Sequential\n",
    "from keras.layers import Dense, Activation\n",
    "from keras.callbacks import EarlyStopping\n",
    "import numpy as np\n",
    "from keras import metrics\n",
    "from sklearn.svm import SVR\n",
    "from sklearn.linear_model import LinearRegression\n",
    "from sklearn.ensemble import RandomForestRegressor\n",
    "from sklearn.metrics import mean_squared_error, r2_score\n",
    "from sklearn.tree import DecisionTreeRegressor"
   ]
  },
  {
   "cell_type": "code",
   "execution_count": 21,
   "metadata": {},
   "outputs": [],
   "source": [
    "def import_data(path, sep): \n",
    "    balance_data = pd.read_csv( path, \n",
    "    sep= sep, header = None) \n",
    "      \n",
    "#     Printing the dataset shape \n",
    "#     print (\"Dataset Lenght: \", len(balance_data)) \n",
    "#     print (\"Dataset Shape: \", balance_data.shape) \n",
    "#     Printing the dataset obseravtions \n",
    "#     print (\"Dataset: \",balance_data.head()) \n",
    "    return balance_data "
   ]
  },
  {
   "cell_type": "code",
   "execution_count": 22,
   "metadata": {},
   "outputs": [],
   "source": [
    "def split_dataset(data):\n",
    "#     distributed data into input parameters X and predicitons Y\n",
    "#     data = np.asarray(data)\n",
    "    data = data.loc[1:, :]\n",
    "    X = data.values[:, :-3]\n",
    "    Y = data.values[:, -3:]\n",
    "\n",
    "#     splitting into training and testing datasets\n",
    "    X_train, X_test, Y_train, Y_test = train_test_split(X, Y, test_size = 0.1, random_state = 42)\n",
    "    \n",
    "    X_train = np.asarray(X_train, dtype=np.float32)\n",
    "    Y_train = np.asarray(Y_train, dtype=np.float32)\n",
    "    X_test = np.asarray(X_test, dtype=np.float32)\n",
    "    Y_test = np.asarray(Y_test, dtype=np.float32)\n",
    "        \n",
    "    return X_train, Y_train, X_test, Y_test"
   ]
  },
  {
   "cell_type": "code",
   "execution_count": 23,
   "metadata": {
    "scrolled": false
   },
   "outputs": [
    {
     "name": "stdout",
     "output_type": "stream",
     "text": [
      "(45000, 20) (45000, 3) (5000, 20) (5000, 3)\n"
     ]
    },
    {
     "name": "stderr",
     "output_type": "stream",
     "text": [
      "/home/pooja/.local/lib/python3.5/site-packages/IPython/core/interactiveshell.py:3214: DtypeWarning: Columns (0,1,2,3,4,5,6,7,8,9,10,11,12,13,14,15,16,17,18,19,20,21,22) have mixed types. Specify dtype option on import or set low_memory=False.\n",
      "  if (yield from self.run_code(code, result)):\n"
     ]
    }
   ],
   "source": [
    "path = \"./not16nm_Delays_process_temp_pvdd_cqloadNEWLOAD.csv\"\n",
    "path1 = \"./AND2_16nm_stat00.csv\"\n",
    "data = import_data(path, ',')\n",
    "train_x, train_y, test_x, test_y = split_dataset(data)\n",
    "print(train_x.shape,train_y.shape,test_x.shape,test_y.shape)"
   ]
  },
  {
   "cell_type": "markdown",
   "metadata": {},
   "source": [
    "### Neural Network"
   ]
  },
  {
   "cell_type": "code",
   "execution_count": 108,
   "metadata": {},
   "outputs": [],
   "source": [
    "#import data\n",
    "#path = \"./not16nm_Delays_process_temp_pvdd_cqloadNEWLOAD.csv\"\n",
    "#data = import_data(path, ',')\n",
    "\n",
    "#data = data.loc[1:, :]\n",
    "#X = data.values[:, :-3]\n",
    "#Y = data.values[:, -3:]\n",
    "\n",
    "#X_train = np.asarray(X, dtype=np.float32)\n",
    "#Y_train = np.asarray(Y, dtype=np.float32)\n",
    "    \n",
    "def NN(X_train,Y_train, multi=\"no\"):\n",
    "    \n",
    "    X_train, X_test, Y_train, Y_test = train_test_split(X_train, Y_train, test_size = 0.1, random_state = 42)\n",
    "# Initialize the constructor\n",
    "    model = Sequential()\n",
    "\n",
    "    # Add an input layer and one hidden\n",
    "    model.add(Dense(10, activation='tanh', input_shape=(X_train.shape[1],), kernel_initializer='normal'))\n",
    "\n",
    "    model.add(Dense(5, activation='tanh', kernel_initializer='normal'))\n",
    "\n",
    "    # Add an output layer \n",
    "    if multi == \"yes\":\n",
    "        model.add(Dense(Y_train.shape[1], kernel_initializer='normal'))\n",
    "    else:\n",
    "        model.add(Dense(1, kernel_initializer='normal'))\n",
    "        \n",
    "    model.compile(optimizer='adam', loss='mean_squared_error', metrics=['accuracy'])\n",
    "\n",
    "\n",
    "    # #set early stopping monitor so the model stops training when it won't improve anymore\n",
    "    early_stopping_monitor = EarlyStopping(patience=3)\n",
    "\n",
    "    #train model\n",
    "    model.fit(X_train, Y_train, validation_split=0.2, epochs=15, verbose=2, callbacks=[early_stopping_monitor])\n",
    "    \n",
    "    scores = model.evaluate(X_test, Y_test)\n",
    "    \n",
    "    return { \"model\" : model, \"mse\" : scores }\n",
    "\n",
    "# results = model.fit(train_x, train_y, epochs=2, batch_size = 500, validation_data = (test_x, test_y))\n",
    "#print(\"Test-Accuracy:\", np.mean(results.history[\"val_acc\"])))\n",
    "\n",
    "#test\n",
    "# test_y_predictions = model.predict(test_x)\n",
    "# print(test_y_predictions)\n",
    "\n",
    "# Accuracy\n",
    "# print(\"test error: {}%\".format(np.mean((test_y_predictions - test_y)**2) * 100))\n",
    "\n",
    "# scores = model.evaluate(x=test_x, y=test_y, batch_size=None, verbose=2, sample_weight=None, steps=None)\n",
    "\n",
    "\n",
    "# print('Test loss:', scores)"
   ]
  },
  {
   "cell_type": "markdown",
   "metadata": {},
   "source": [
    "### Support Vector Regression for Mulitple Outputs"
   ]
  },
  {
   "cell_type": "code",
   "execution_count": 70,
   "metadata": {},
   "outputs": [],
   "source": [
    "def SVMM(train_x,train_y, multi=\"no\"):\n",
    "    \n",
    "    if multi == \"yes\":\n",
    "        model1 = MultiOutputRegressor(SVR(kernel='rbf', C=1, gamma=0.1, epsilon=.1))\n",
    "    else:\n",
    "        model1 = SVR(kernel='rbf', C=1, gamma=0.1, epsilon=0.1)\n",
    "    \n",
    "    train_x, test_x, train_y, test_y = train_test_split(train_x, train_y, test_size = 0.1, random_state = 42)\n",
    "    \n",
    "    predict_Y = model1.fit(train_x, train_y).predict(test_x)\n",
    "    print(predict_Y.shape,test_y.shape)\n",
    "#     score = np.square(np.sum(np.subtract(test_y, predict_Y)))*100/5000\n",
    "    score_1 = mean_squared_error(test_y,predict_Y)\n",
    "    #scores = model1.evaluate(x=test_x, y=test_y, batch_size=None, verbose=2, sample_weight=None, steps=None)\n",
    "    #score1 = predict_Y.score(test_x, test_y)\n",
    "#     print(score_1)\n",
    "    return { \"model\" : model1, \"mse\" : score_1 }\n",
    "#{ ( 1 / N ) * Σ [ (xi - x) * (yi - y) ] / (σx * σy ) }2\n",
    "#x = np.subtract(predict_Y, np.mean(predict_Y))\n",
    "#y = np.subtract(test_y, np.mean(test_y))\n",
    "#v =np.multiply(np.std(predict_Y),np.std(test_y))\n",
    "#u = np.multiply(v,5000)\n",
    "#score2 = np.square(np.sum(np.multiply(x,y))/u)\n",
    "\n",
    "#print(score2)\n"
   ]
  },
  {
   "cell_type": "markdown",
   "metadata": {},
   "source": [
    "### Linear Regression "
   ]
  },
  {
   "cell_type": "code",
   "execution_count": 71,
   "metadata": {},
   "outputs": [],
   "source": [
    "def LR(train_x,train_y, multi=\"no\"):\n",
    "    \n",
    "    if multi == \"yes\":\n",
    "        model2 = MultiOutputRegressor(LinearRegression())\n",
    "    else:\n",
    "        model2 = LinearRegression()\n",
    "    \n",
    "    train_x, test_x, train_y, test_y = train_test_split(train_x, train_y, test_size = 0.1, random_state = 42)\n",
    "\n",
    "    model2.fit(train_x, train_y)\n",
    "    predicty = model2.predict(test_x)\n",
    "    #score2 = model1.score(test_x, test_y)\n",
    "    score1 = mean_squared_error(predicty, test_y) \n",
    "    #score3 = r2_score(predicty, predicty) \n",
    "#     score2 = np.square(np.sum(np.subtract(test_y, predicty)))*100/5000\n",
    "#     print(score1,score2)\n",
    "    return { \"model\" : model2, \"mse\" : score1 } \n"
   ]
  },
  {
   "cell_type": "markdown",
   "metadata": {},
   "source": [
    "### Random Forest Regression"
   ]
  },
  {
   "cell_type": "code",
   "execution_count": 72,
   "metadata": {},
   "outputs": [],
   "source": [
    "def RF(train_x,train_y,max_depth1=10, multi=\"no\"):\n",
    "    #max_depth1 = 2\n",
    "    #max_depth2 = 10\n",
    "    \n",
    "    train_x, test_x, train_y, test_y = train_test_split(train_x, train_y, test_size = 0.1, random_state = 42)\n",
    "\n",
    "    model3 =  RandomForestRegressor(n_estimators=100, max_depth=max_depth1,\n",
    "                                    random_state=2)\n",
    "    #model4 =  RandomForestRegressor(n_estimators=100, max_depth=max_depth2,\n",
    "     #                               random_state=2)\n",
    "\n",
    "    model3.fit(train_x, train_y)\n",
    "    #model4.fit(train_x, train_y)\n",
    "\n",
    "    predict_y3= model3.predict(test_x)\n",
    "    #predict_y4= model4.predict(test_x)\n",
    "\n",
    "    #score3_1 = model3.score(test_x, test_y)\n",
    "    score3_2 = mean_squared_error(predict_y3, test_y)\n",
    "#     score3_3 = np.square(np.sum(np.subtract(test_y, predict_y3)))*100/5000\n",
    "\n",
    "    #score4_1 = model4.score(test_x, test_y)\n",
    "    #score4_2 = mean_squared_error(predict_y4, test_y)\n",
    "    #score4_3 = np.square(np.sum(np.subtract(test_y, predict_y4)))*100/5000\n",
    "\n",
    "#     print(score3_2,score3_3)\n",
    "    return { \"model\" : model3, \"mse\" : score3_2 }\n",
    "    #print(score4_2,score4_3)"
   ]
  },
  {
   "cell_type": "markdown",
   "metadata": {},
   "source": [
    "### Decision Tree Regression"
   ]
  },
  {
   "cell_type": "code",
   "execution_count": 73,
   "metadata": {},
   "outputs": [],
   "source": [
    "def DecisionTree(train_x,train_y,maxdepth, multi=\"no\"):    \n",
    "    \n",
    "    train_x, test_x, train_y, test_y = train_test_split(train_x, train_y, test_size = 0.1, random_state = 42)\n",
    "    #maxdepth= 2\n",
    "    model5 = DecisionTreeRegressor(max_depth=maxdepth)\n",
    "    model5.fit(train_x, train_y)\n",
    "\n",
    "    predict_y5 = model5.predict(test_x)\n",
    "\n",
    "    #score5_1 = model3.score(test_x, test_y)\n",
    "    score5_2 = mean_squared_error(predict_y5, test_y)\n",
    "#     /score5_3 = np.square(np.sum(np.subtract(test_y, predict_y5)))*100/5000\n",
    "\n",
    "#     print(score5_2, score5_3)\n",
    "    return { \"model\" : model5, \"mse\" : score5_2 }"
   ]
  },
  {
   "cell_type": "code",
   "execution_count": 104,
   "metadata": {},
   "outputs": [],
   "source": [
    "def Modelret(mod,train_x,train_y, multi=\"no\"):\n",
    "    if(mod==\"SVM\"):\n",
    "        ret = SVMM(train_x,train_y, multi)\n",
    "    elif(mod==\"LR\"):\n",
    "        ret = LR(train_x,train_y, multi)\n",
    "    elif(mod==\"NN\"):\n",
    "        ret = NN(train_x,train_y, multi)\n",
    "    elif(mod==\"RF\"):\n",
    "        ret = RF(train_x,train_y,2, multi)\n",
    "    elif(mod == \"DT\"):\n",
    "        ret = DecisionTree(train_x,train_y,2, multi)\n",
    "    return ret\n",
    "        \n",
    "        \n",
    "        \n",
    "        "
   ]
  },
  {
   "cell_type": "code",
   "execution_count": 129,
   "metadata": {},
   "outputs": [],
   "source": [
    "def run(model, gate, X_test=None, Y_test=None):\n",
    "    if gate == \"AND3\":\n",
    "        data = import_data('./AND3/AND_3_delay_16nm.csv', ',')\n",
    "        data.head()\n",
    "        data = data.values[1:, :]\n",
    "        # print(data[:5, :])\n",
    "        X = data[:, :-6]\n",
    "        Y = data[:, -6:]\n",
    "        X_del = np.asarray(X, dtype=np.float32)\n",
    "        Y_del = np.asarray(Y, dtype=np.float32)\n",
    "#         print(X[:5, :])\n",
    "#         print(Y[:5, :])\n",
    "        mse = []\n",
    "        \n",
    "        ret_and3_del = Modelret(model, X_del, Y_del, \"yes\")\n",
    "        mse.append(ret_and3_del[\"mse\"])\n",
    "    \n",
    "        data = import_data('./AND3/000_AND3.csv', ',')\n",
    "        data = data.values[1:, :]\n",
    "        data = np.asarray(data, dtype=np.float32)\n",
    "        X_000 = data[:, :-1]\n",
    "        Y_000 = data[:, -1]\n",
    "        \n",
    "        ret_and3_leak000 = Modelret(model, X_000, Y_000)\n",
    "        mse.append(ret_and3_leak000[\"mse\"])\n",
    "        \n",
    "        data = import_data('./AND3/001_AND3.csv', ',')\n",
    "        data = data.values[1:, :]\n",
    "        data = np.asarray(data, dtype=np.float32)\n",
    "        X_001 = data[:, :-1]\n",
    "        Y_001 = data[:, -1]\n",
    "        \n",
    "        ret_and3_leak001 = Modelret(model, X_001, Y_001)\n",
    "        mse.append(ret_and3_leak001[\"mse\"])\n",
    "        \n",
    "        data = import_data('./AND3/010_AND3.csv', ',')\n",
    "        data = data.values[1:, :]\n",
    "        data = np.asarray(data, dtype=np.float32)\n",
    "        X_010 = data[:, :-1]\n",
    "        Y_010 = data[:, -1]\n",
    "        \n",
    "        ret_and3_leak010 = Modelret(model, X_010, Y_010)\n",
    "        mse.append(ret_and3_leak010[\"mse\"])\n",
    "        \n",
    "        data = import_data('./AND3/011_AND3.csv', ',')\n",
    "        data = data.values[1:, :]\n",
    "        data = np.asarray(data, dtype=np.float32)\n",
    "        X_011 = data[:, :-1]\n",
    "        Y_011 = data[:, -1]\n",
    "        \n",
    "        ret_and3_leak011 = Modelret(model, X_011, Y_011)\n",
    "        mse.append(ret_and3_leak011[\"mse\"])\n",
    "        \n",
    "        data = import_data('./AND3/100_AND3.csv', ',')\n",
    "        data = data.values[1:, :]\n",
    "        data = np.asarray(data, dtype=np.float32)\n",
    "        X_100 = data[:, :-1]\n",
    "        Y_100 = data[:, -1]\n",
    "        \n",
    "        ret_and3_leak100 = Modelret(model, X_100, Y_100)\n",
    "        mse.append(ret_and3_leak100[\"mse\"])\n",
    "        \n",
    "        data = import_data('./AND3/101_AND3.csv', ',')\n",
    "        data = data.values[1:, :]\n",
    "        data = np.asarray(data, dtype=np.float32)\n",
    "        X_101 = data[:, :-1]\n",
    "        Y_101 = data[:, -1]\n",
    "        \n",
    "        ret_and3_leak101 = Modelret(model, X_101, Y_101)\n",
    "        mse.append(ret_and3_leak101[\"mse\"])\n",
    "        \n",
    "        data = import_data('./AND3/110_AND3.csv', ',')\n",
    "        data = data.values[1:, :]\n",
    "        data = np.asarray(data, dtype=np.float32)\n",
    "        X_110 = data[:, :-1]\n",
    "        Y_110 = data[:, -1]\n",
    "        \n",
    "        ret_and3_leak110 = Modelret(model, X_110, Y_110)\n",
    "        mse.append(ret_and3_leak110[\"mse\"])\n",
    "        \n",
    "        data = import_data('./AND3/111_AND3.csv', ',')\n",
    "        data = data.values[1:, :]\n",
    "        data = np.asarray(data, dtype=np.float32)\n",
    "        X_111 = data[:, :-1]\n",
    "        Y_111 = data[:, -1]\n",
    "        \n",
    "        ret_and3_leak111 = Modelret(model, X_111, Y_111)\n",
    "        mse.append(ret_and3_leak111[\"mse\"])\n",
    "        \n",
    "        data = import_data('./AND3/000_AND3.csv', ',')\n",
    "        data = data.values[1:, :]\n",
    "        data = np.asarray(data, dtype=np.float32)\n",
    "        X_000 = data[:, :-1]\n",
    "        Y_000 = data[:, -1]\n",
    "        \n",
    "        \n",
    "        mse = np.asarray(mse, dtype=np.float32)\n",
    "        \n",
    "        if X_test == None and model != \"NN\":\n",
    "            print(\"MEAN SQUARED ERROR\", np.sum(mse))\n",
    "            return np.sum(mse)\n",
    "            \n",
    "    elif gate == \"XOR2\":\n",
    "        data = import_data('./XOR2/XOR2_delay_16nm.csv', ',')\n",
    "        data.head()\n",
    "        data = data.values[1:, :]\n",
    "        # print(data[:5, :])\n",
    "        X = data[:, :-4]\n",
    "        Y = data[:, -4:]\n",
    "        X_del = np.asarray(X, dtype=np.float32)\n",
    "        Y_del = np.asarray(Y, dtype=np.float32)\n",
    "        #         print(X[:5, :])\n",
    "        #         print(Y[:5, :])\n",
    "        mse = []\n",
    "\n",
    "        ret_XOR2_del = Modelret(model, X_del, Y_del, \"yes\")\n",
    "        mse.append(ret_XOR2_del[\"mse\"])\n",
    "\n",
    "        data = import_data('./XOR2/00_XOR2.csv', ',')\n",
    "        data = data.values[1:, :]\n",
    "        data = np.asarray(data, dtype=np.float32)\n",
    "        X_000 = data[:, :-1]\n",
    "        Y_000 = data[:, -1]\n",
    "\n",
    "        ret_XOR2_leak000 = Modelret(model, X_000, Y_000)\n",
    "        mse.append(ret_XOR2_leak000[\"mse\"])\n",
    "\n",
    "        data = import_data('./XOR2/01_XOR2.csv', ',')\n",
    "        data = data.values[1:, :]\n",
    "        data = np.asarray(data, dtype=np.float32)\n",
    "        X_001 = data[:, :-1]\n",
    "        Y_001 = data[:, -1]\n",
    "\n",
    "        ret_XOR2_leak001 = Modelret(model, X_001, Y_001)\n",
    "        mse.append(ret_XOR2_leak001[\"mse\"])\n",
    "\n",
    "        data = import_data('./XOR2/10_XOR2.csv', ',')\n",
    "        data = data.values[1:, :]\n",
    "        data = np.asarray(data, dtype=np.float32)\n",
    "        X_010 = data[:, :-1]\n",
    "        Y_010 = data[:, -1]\n",
    "\n",
    "        ret_XOR2_leak010 = Modelret(model, X_010, Y_010)\n",
    "        mse.append(ret_XOR2_leak010[\"mse\"])\n",
    "\n",
    "        data = import_data('./XOR2/11_XOR2.csv', ',')\n",
    "        data = data.values[1:, :]\n",
    "        data = np.asarray(data, dtype=np.float32)\n",
    "        X_011 = data[:, :-1]\n",
    "        Y_011 = data[:, -1]\n",
    "\n",
    "        ret_XOR2_leak011 = Modelret(model, X_011, Y_011)\n",
    "        mse.append(ret_XOR2_leak011[\"mse\"])\n",
    "\n",
    "        if X_test == None and model != \"NN\":\n",
    "            print(\"MEAN SQUARED ERROR\", np.sum(mse))\n",
    "            return np.sum(mse)\n",
    "        \n",
    "    elif gate == \"NOR2\":\n",
    "        data = import_data('./NOR2/NOR2_delay_16nm.csv', ',')\n",
    "        data.head()\n",
    "        data = data.values[1:, :]\n",
    "        # print(data[:5, :])\n",
    "        X = data[:, :-4]\n",
    "        Y = data[:, -4:]\n",
    "        X_del = np.asarray(X, dtype=np.float32)\n",
    "        Y_del = np.asarray(Y, dtype=np.float32)\n",
    "        #         print(X[:5, :])\n",
    "        #         print(Y[:5, :])\n",
    "        mse = []\n",
    "\n",
    "        ret_NOR2_del = Modelret(model, X_del, Y_del, \"yes\")\n",
    "        mse.append(ret_NOR2_del[\"mse\"])\n",
    "\n",
    "        data = import_data('./NOR2/00_NOR2.csv', ',')\n",
    "        data = data.values[1:, :]\n",
    "        data = np.asarray(data, dtype=np.float32)\n",
    "        X_000 = data[:, :-1]\n",
    "        Y_000 = data[:, -1]\n",
    "\n",
    "        ret_NOR2_leak000 = Modelret(model, X_000, Y_000)\n",
    "        mse.append(ret_NOR2_leak000[\"mse\"])\n",
    "\n",
    "        data = import_data('./NOR2/01_NOR2.csv', ',')\n",
    "        data = data.values[1:, :]\n",
    "        data = np.asarray(data, dtype=np.float32)\n",
    "        X_001 = data[:, :-1]\n",
    "        Y_001 = data[:, -1]\n",
    "\n",
    "        ret_NOR2_leak001 = Modelret(model, X_001, Y_001)\n",
    "        mse.append(ret_NOR2_leak001[\"mse\"])\n",
    "\n",
    "        data = import_data('./NOR2/10_NOR2.csv', ',')\n",
    "        data = data.values[1:, :]\n",
    "        data = np.asarray(data, dtype=np.float32)\n",
    "        X_010 = data[:, :-1]\n",
    "        Y_010 = data[:, -1]\n",
    "\n",
    "        ret_NOR2_leak010 = Modelret(model, X_010, Y_010)\n",
    "        mse.append(ret_NOR2_leak010[\"mse\"])\n",
    "\n",
    "        data = import_data('./NOR2/11_NOR2.csv', ',')\n",
    "        data = data.values[1:, :]\n",
    "        data = np.asarray(data, dtype=np.float32)\n",
    "        X_011 = data[:, :-1]\n",
    "        Y_011 = data[:, -1]\n",
    "\n",
    "        ret_NOR2_leak011 = Modelret(model, X_011, Y_011)\n",
    "        mse.append(ret_NOR2_leak011[\"mse\"])\n",
    "\n",
    "        if X_test == None and model != \"NN\":\n",
    "            print(\"MEAN SQUARED ERROR\", np.sum(mse))\n",
    "            return np.sum(mse)\n",
    "    \n",
    "    elif gate == \"NAND2\":\n",
    "        data = import_data('./NAND2/NAND2_delay_16nm.csv', ',')\n",
    "        data.head()\n",
    "        data = data.values[1:, :]\n",
    "        # print(data[:5, :])\n",
    "        X = data[:, :-4]\n",
    "        Y = data[:, -4:]\n",
    "        X_del = np.asarray(X, dtype=np.float32)\n",
    "        Y_del = np.asarray(Y, dtype=np.float32)\n",
    "        #         print(X[:5, :])\n",
    "        #         print(Y[:5, :])\n",
    "        mse = []\n",
    "\n",
    "        ret_NAND2_del = Modelret(model, X_del, Y_del, \"yes\")\n",
    "        mse.append(ret_NAND2_del[\"mse\"])\n",
    "\n",
    "        data = import_data('./NAND2/00_NAND2.csv', ',')\n",
    "        data = data.values[1:, :]\n",
    "        data = np.asarray(data, dtype=np.float32)\n",
    "        X_000 = data[:, :-1]\n",
    "        Y_000 = data[:, -1]\n",
    "\n",
    "        ret_NAND2_leak000 = Modelret(model, X_000, Y_000)\n",
    "        mse.append(ret_NAND2_leak000[\"mse\"])\n",
    "\n",
    "        data = import_data('./NAND2/01_NAND2.csv', ',')\n",
    "        data = data.values[1:, :]\n",
    "        data = np.asarray(data, dtype=np.float32)\n",
    "        X_001 = data[:, :-1]\n",
    "        Y_001 = data[:, -1]\n",
    "\n",
    "        ret_NAND2_leak001 = Modelret(model, X_001, Y_001)\n",
    "        mse.append(ret_NAND2_leak001[\"mse\"])\n",
    "\n",
    "        data = import_data('./NAND2/10_NAND2.csv', ',')\n",
    "        data = data.values[1:, :]\n",
    "        data = np.asarray(data, dtype=np.float32)\n",
    "        X_010 = data[:, :-1]\n",
    "        Y_010 = data[:, -1]\n",
    "\n",
    "        ret_NAND2_leak010 = Modelret(model, X_010, Y_010)\n",
    "        mse.append(ret_NAND2_leak010[\"mse\"])\n",
    "\n",
    "        data = import_data('./NAND2/11_NAND2.csv', ',')\n",
    "        data = data.values[1:, :]\n",
    "        data = np.asarray(data, dtype=np.float32)\n",
    "        X_011 = data[:, :-1]\n",
    "        Y_011 = data[:, -1]\n",
    "\n",
    "        ret_NAND2_leak011 = Modelret(model, X_011, Y_011)\n",
    "        mse.append(ret_NAND2_leak011[\"mse\"])\n",
    "\n",
    "        if X_test == None and model != \"NN\":\n",
    "            print(\"MEAN SQUARED ERROR\", np.sum(mse))\n",
    "            return np.sum(mse)\n",
    "        \n",
    "    elif gate == \"NAND3\":\n",
    "        data = import_data('./NAND3/NAND_3_delay_16nm.csv', ',')\n",
    "        data.head()\n",
    "        data = data.values[1:, :]\n",
    "        # print(data[:5, :])\n",
    "        X = data[:, :-6]\n",
    "        Y = data[:, -6:]\n",
    "        X_del = np.asarray(X, dtype=np.float32)\n",
    "        Y_del = np.asarray(Y, dtype=np.float32)\n",
    "#         print(X[:5, :])\n",
    "#         print(Y[:5, :])\n",
    "        mse = []\n",
    "        \n",
    "        ret_NAND3_del = Modelret(model, X_del, Y_del, \"yes\")\n",
    "        mse.append(ret_NAND3_del[\"mse\"])\n",
    "    \n",
    "        data = import_data('./NAND3/000_NAND3.csv', ',')\n",
    "        data = data.values[1:, :]\n",
    "        data = np.asarray(data, dtype=np.float32)\n",
    "        X_000 = data[:, :-1]\n",
    "        Y_000 = data[:, -1]\n",
    "        \n",
    "        ret_NAND3_leak000 = Modelret(model, X_000, Y_000)\n",
    "        mse.append(ret_NAND3_leak000[\"mse\"])\n",
    "        \n",
    "        data = import_data('./NAND3/001_NAND3.csv', ',')\n",
    "        data = data.values[1:, :]\n",
    "        data = np.asarray(data, dtype=np.float32)\n",
    "        X_001 = data[:, :-1]\n",
    "        Y_001 = data[:, -1]\n",
    "        \n",
    "        ret_NAND3_leak001 = Modelret(model, X_001, Y_001)\n",
    "        mse.append(ret_NAND3_leak001[\"mse\"])\n",
    "        \n",
    "        data = import_data('./NAND3/010_NAND3.csv', ',')\n",
    "        data = data.values[1:, :]\n",
    "        data = np.asarray(data, dtype=np.float32)\n",
    "        X_010 = data[:, :-1]\n",
    "        Y_010 = data[:, -1]\n",
    "        \n",
    "        ret_NAND3_leak010 = Modelret(model, X_010, Y_010)\n",
    "        mse.append(ret_NAND3_leak010[\"mse\"])\n",
    "        \n",
    "        data = import_data('./NAND3/011_NAND3.csv', ',')\n",
    "        data = data.values[1:, :]\n",
    "        data = np.asarray(data, dtype=np.float32)\n",
    "        X_011 = data[:, :-1]\n",
    "        Y_011 = data[:, -1]\n",
    "        \n",
    "        ret_NAND3_leak011 = Modelret(model, X_011, Y_011)\n",
    "        mse.append(ret_NAND3_leak011[\"mse\"])\n",
    "        \n",
    "        data = import_data('./NAND3/100_NAND3.csv', ',')\n",
    "        data = data.values[1:, :]\n",
    "        data = np.asarray(data, dtype=np.float32)\n",
    "        X_100 = data[:, :-1]\n",
    "        Y_100 = data[:, -1]\n",
    "        \n",
    "        ret_NAND3_leak100 = Modelret(model, X_100, Y_100)\n",
    "        mse.append(ret_NAND3_leak100[\"mse\"])\n",
    "        \n",
    "        data = import_data('./NAND3/101_NAND3.csv', ',')\n",
    "        data = data.values[1:, :]\n",
    "        data = np.asarray(data, dtype=np.float32)\n",
    "        X_101 = data[:, :-1]\n",
    "        Y_101 = data[:, -1]\n",
    "        \n",
    "        ret_NAND3_leak101 = Modelret(model, X_101, Y_101)\n",
    "        mse.append(ret_NAND3_leak101[\"mse\"])\n",
    "        \n",
    "        data = import_data('./NAND3/110_NAND3.csv', ',')\n",
    "        data = data.values[1:, :]\n",
    "        data = np.asarray(data, dtype=np.float32)\n",
    "        X_110 = data[:, :-1]\n",
    "        Y_110 = data[:, -1]\n",
    "        \n",
    "        ret_NAND3_leak110 = Modelret(model, X_110, Y_110)\n",
    "        mse.append(ret_NAND3_leak110[\"mse\"])\n",
    "        \n",
    "        data = import_data('./NAND3/111_NAND3.csv', ',')\n",
    "        data = data.values[1:, :]\n",
    "        data = np.asarray(data, dtype=np.float32)\n",
    "        X_111 = data[:, :-1]\n",
    "        Y_111 = data[:, -1]\n",
    "        \n",
    "        ret_NAND3_leak111 = Modelret(model, X_111, Y_111)\n",
    "        mse.append(ret_NAND3_leak111[\"mse\"])\n",
    "        \n",
    "        data = import_data('./NAND3/000_NAND3.csv', ',')\n",
    "        data = data.values[1:, :]\n",
    "        data = np.asarray(data, dtype=np.float32)\n",
    "        X_000 = data[:, :-1]\n",
    "        Y_000 = data[:, -1]\n",
    "        \n",
    "        \n",
    "        mse = np.asarray(mse, dtype=np.float32)\n",
    "        \n",
    "        if X_test == None and model != \"NN\":\n",
    "            print(\"MEAN SQUARED ERROR\", np.sum(mse))\n",
    "            return np.sum(mse)\n",
    "        \n",
    "    elif gate == \"NOR3\":\n",
    "        data = import_data('./NOR3/Nor_3_delay_16nm.csv', ',')\n",
    "        data.head()\n",
    "        data = data.values[1:, :]\n",
    "        # print(data[:5, :])\n",
    "        X = data[:, :-6]\n",
    "        Y = data[:, -6:]\n",
    "        X_del = np.asarray(X, dtype=np.float32)\n",
    "        Y_del = np.asarray(Y, dtype=np.float32)\n",
    "#         print(X[:5, :])\n",
    "#         print(Y[:5, :])\n",
    "        mse = []\n",
    "        \n",
    "        ret_NOR3_del = Modelret(model, X_del, Y_del, \"yes\")\n",
    "        mse.append(ret_NOR3_del[\"mse\"])\n",
    "    \n",
    "        data = import_data('./NOR3/000_NOR3.csv', ',')\n",
    "        data = data.values[1:, :]\n",
    "        data = np.asarray(data, dtype=np.float32)\n",
    "        X_000 = data[:, :-1]\n",
    "        Y_000 = data[:, -1]\n",
    "        \n",
    "        ret_NOR3_leak000 = Modelret(model, X_000, Y_000)\n",
    "        mse.append(ret_NOR3_leak000[\"mse\"])\n",
    "        \n",
    "        data = import_data('./NOR3/001_NOR3.csv', ',')\n",
    "        data = data.values[1:, :]\n",
    "        data = np.asarray(data, dtype=np.float32)\n",
    "        X_001 = data[:, :-1]\n",
    "        Y_001 = data[:, -1]\n",
    "        \n",
    "        ret_NOR3_leak001 = Modelret(model, X_001, Y_001)\n",
    "        mse.append(ret_NOR3_leak001[\"mse\"])\n",
    "        \n",
    "        data = import_data('./NOR3/010_NOR3.csv', ',')\n",
    "        data = data.values[1:, :]\n",
    "        data = np.asarray(data, dtype=np.float32)\n",
    "        X_010 = data[:, :-1]\n",
    "        Y_010 = data[:, -1]\n",
    "        \n",
    "        ret_NOR3_leak010 = Modelret(model, X_010, Y_010)\n",
    "        mse.append(ret_NOR3_leak010[\"mse\"])\n",
    "        \n",
    "        data = import_data('./NOR3/011_NOR3.csv', ',')\n",
    "        data = data.values[1:, :]\n",
    "        data = np.asarray(data, dtype=np.float32)\n",
    "        X_011 = data[:, :-1]\n",
    "        Y_011 = data[:, -1]\n",
    "        \n",
    "        ret_NOR3_leak011 = Modelret(model, X_011, Y_011)\n",
    "        mse.append(ret_NOR3_leak011[\"mse\"])\n",
    "        \n",
    "        data = import_data('./NOR3/100_NOR3.csv', ',')\n",
    "        data = data.values[1:, :]\n",
    "        data = np.asarray(data, dtype=np.float32)\n",
    "        X_100 = data[:, :-1]\n",
    "        Y_100 = data[:, -1]\n",
    "        \n",
    "        ret_NOR3_leak100 = Modelret(model, X_100, Y_100)\n",
    "        mse.append(ret_NOR3_leak100[\"mse\"])\n",
    "        \n",
    "        data = import_data('./NOR3/101_NOR3.csv', ',')\n",
    "        data = data.values[1:, :]\n",
    "        data = np.asarray(data, dtype=np.float32)\n",
    "        X_101 = data[:, :-1]\n",
    "        Y_101 = data[:, -1]\n",
    "        \n",
    "        ret_NOR3_leak101 = Modelret(model, X_101, Y_101)\n",
    "        mse.append(ret_NOR3_leak101[\"mse\"])\n",
    "        \n",
    "        data = import_data('./NOR3/110_NOR3.csv', ',')\n",
    "        data = data.values[1:, :]\n",
    "        data = np.asarray(data, dtype=np.float32)\n",
    "        X_110 = data[:, :-1]\n",
    "        Y_110 = data[:, -1]\n",
    "        \n",
    "        ret_NOR3_leak110 = Modelret(model, X_110, Y_110)\n",
    "        mse.append(ret_NOR3_leak110[\"mse\"])\n",
    "        \n",
    "        data = import_data('./NOR3/111_NOR3.csv', ',')\n",
    "        data = data.values[1:, :]\n",
    "        data = np.asarray(data, dtype=np.float32)\n",
    "        X_111 = data[:, :-1]\n",
    "        Y_111 = data[:, -1]\n",
    "        \n",
    "        ret_NOR3_leak111 = Modelret(model, X_111, Y_111)\n",
    "        mse.append(ret_NOR3_leak111[\"mse\"])\n",
    "        \n",
    "        data = import_data('./NOR3/000_NOR3.csv', ',')\n",
    "        data = data.values[1:, :]\n",
    "        data = np.asarray(data, dtype=np.float32)\n",
    "        X_000 = data[:, :-1]\n",
    "        Y_000 = data[:, -1]\n",
    "        \n",
    "        \n",
    "        mse = np.asarray(mse, dtype=np.float32)\n",
    "        \n",
    "        if X_test == None and model != \"NN\":\n",
    "            print(\"MEAN SQUARED ERROR\", np.sum(mse))\n",
    "            return np.sum(mse)\n",
    "    "
   ]
  },
  {
   "cell_type": "code",
   "execution_count": 131,
   "metadata": {},
   "outputs": [
    {
     "name": "stderr",
     "output_type": "stream",
     "text": [
      "/home/pooja/.local/lib/python3.5/site-packages/IPython/core/interactiveshell.py:3296: DtypeWarning: Columns (0,1,2,3,4,5,6,7,8,9,10,11,12,13,14,15,16,17,18,19,20,21,22,23,24,25,26,27,28) have mixed types. Specify dtype option on import or set low_memory=False.\n",
      "  exec(code_obj, self.user_global_ns, self.user_ns)\n",
      "/home/pooja/.local/lib/python3.5/site-packages/IPython/core/interactiveshell.py:3296: DtypeWarning: Columns (0,1,2,3,4,5,6,7,8,9,10,11,12,13,14,15,16,17,18,19,20,21,22,23,24,25,26,27,28,29,30,31,32,33,34,35) have mixed types. Specify dtype option on import or set low_memory=False.\n",
      "  exec(code_obj, self.user_global_ns, self.user_ns)\n",
      "/home/pooja/.local/lib/python3.5/site-packages/IPython/core/interactiveshell.py:3296: DtypeWarning: Columns (0,1,2,3,4,5,6,7,8,9,10,11,12,13,14,15,16,17,18,19,20,21,22,23,24,25,26,27,28,29,30,31,32,33,34,35) have mixed types. Specify dtype option on import or set low_memory=False.\n",
      "  exec(code_obj, self.user_global_ns, self.user_ns)\n",
      "/home/pooja/.local/lib/python3.5/site-packages/IPython/core/interactiveshell.py:3296: DtypeWarning: Columns (0,1,2,3,4,5,6,7,8,9,10,11,12,13,14,15,16,17,18,19,20,21,22,23,24,25,26,27,28,29,30,31,32,33,34,35) have mixed types. Specify dtype option on import or set low_memory=False.\n",
      "  exec(code_obj, self.user_global_ns, self.user_ns)\n",
      "/home/pooja/.local/lib/python3.5/site-packages/IPython/core/interactiveshell.py:3296: DtypeWarning: Columns (0,1,2,3,4,5,6,7,8,9,10,11,12,13,14,15,16,17,18,19,20,21,22,23,24,25,26,27,28,29,30,31,32,33,34,35) have mixed types. Specify dtype option on import or set low_memory=False.\n",
      "  exec(code_obj, self.user_global_ns, self.user_ns)\n",
      "/home/pooja/.local/lib/python3.5/site-packages/IPython/core/interactiveshell.py:3296: DtypeWarning: Columns (0,1,2,3,4,5,6,7,8,9,10,11,12,13,14,15,16,17,18,19,20,21,22,23,24,25,26,27,28,29,30,31,32,33,34,35) have mixed types. Specify dtype option on import or set low_memory=False.\n",
      "  exec(code_obj, self.user_global_ns, self.user_ns)\n",
      "/home/pooja/.local/lib/python3.5/site-packages/IPython/core/interactiveshell.py:3296: DtypeWarning: Columns (0,1,2,3,4,5,6,7,8,9,10,11,12,13,14,15,16,17,18,19,20,21,22,23,24,25,26,27,28,29,30,31,32,33,34,35) have mixed types. Specify dtype option on import or set low_memory=False.\n",
      "  exec(code_obj, self.user_global_ns, self.user_ns)\n",
      "/home/pooja/.local/lib/python3.5/site-packages/IPython/core/interactiveshell.py:3296: DtypeWarning: Columns (0,1,2,3,4,5,6,7,8,9,10,11,12,13,14,15,16,17,18,19,20,21,22,23,24,25,26,27,28,29,30,31,32,33,34,35) have mixed types. Specify dtype option on import or set low_memory=False.\n",
      "  exec(code_obj, self.user_global_ns, self.user_ns)\n",
      "/home/pooja/.local/lib/python3.5/site-packages/IPython/core/interactiveshell.py:3296: DtypeWarning: Columns (0,1,2,3,4,5,6,7,8,9,10,11,12,13,14,15,16,17,18,19,20,21,22,23,24,25,26,27,28,29,30,31,32,33,34,35) have mixed types. Specify dtype option on import or set low_memory=False.\n",
      "  exec(code_obj, self.user_global_ns, self.user_ns)\n"
     ]
    },
    {
     "name": "stdout",
     "output_type": "stream",
     "text": [
      "MEAN SQUARED ERROR 9.129159e-15\n"
     ]
    },
    {
     "name": "stderr",
     "output_type": "stream",
     "text": [
      "/home/pooja/.local/lib/python3.5/site-packages/IPython/core/interactiveshell.py:3296: DtypeWarning: Columns (0,1,2,3,4,5,6,7,8,9,10,11,12,13,14,15,16,17,18,19,20,21,22,23,24,25,26,27,28,29,30,31,32,33,34,35) have mixed types. Specify dtype option on import or set low_memory=False.\n",
      "  exec(code_obj, self.user_global_ns, self.user_ns)\n"
     ]
    },
    {
     "data": {
      "text/plain": [
       "9.129159e-15"
      ]
     },
     "execution_count": 131,
     "metadata": {},
     "output_type": "execute_result"
    }
   ],
   "source": [
    "run(\"LR\", \"NAND3\")"
   ]
  },
  {
   "cell_type": "code",
   "execution_count": 128,
   "metadata": {},
   "outputs": [
    {
     "name": "stderr",
     "output_type": "stream",
     "text": [
      "/home/pooja/.local/lib/python3.5/site-packages/IPython/core/interactiveshell.py:3296: DtypeWarning: Columns (0,1,2,3,4,5,6,7,8,9,10,11,12,13,14,15,16,17,18,19,20,21,22,23,24,25,26) have mixed types. Specify dtype option on import or set low_memory=False.\n",
      "  exec(code_obj, self.user_global_ns, self.user_ns)\n"
     ]
    },
    {
     "name": "stdout",
     "output_type": "stream",
     "text": [
      "Train on 36000 samples, validate on 9000 samples\n",
      "Epoch 1/15\n",
      " - 3s - loss: 1.2460e-06 - acc: 0.2640 - val_loss: 1.8401e-22 - val_acc: 0.0000e+00\n",
      "Epoch 2/15\n",
      " - 1s - loss: 4.6985e-21 - acc: 0.0098 - val_loss: 1.8401e-22 - val_acc: 0.0000e+00\n",
      "Epoch 3/15\n",
      " - 1s - loss: 5.4361e-19 - acc: 0.1698 - val_loss: 1.2150e-17 - val_acc: 0.0000e+00\n",
      "Epoch 4/15\n",
      " - 1s - loss: 2.8793e-10 - acc: 0.2844 - val_loss: 4.8126e-14 - val_acc: 0.0000e+00\n",
      "5000/5000 [==============================] - 0s 28us/step\n"
     ]
    },
    {
     "name": "stderr",
     "output_type": "stream",
     "text": [
      "/home/pooja/.local/lib/python3.5/site-packages/IPython/core/interactiveshell.py:3296: DtypeWarning: Columns (0,1,2,3,4,5,6,7,8,9,10,11,12,13,14,15,16,17,18,19,20,21,22,23,24,25,26,27,28,29,30,31,32,33,34,35) have mixed types. Specify dtype option on import or set low_memory=False.\n",
      "  exec(code_obj, self.user_global_ns, self.user_ns)\n"
     ]
    },
    {
     "name": "stdout",
     "output_type": "stream",
     "text": [
      "Train on 36000 samples, validate on 9000 samples\n",
      "Epoch 1/15\n",
      " - 3s - loss: 2.7235e-06 - acc: 0.0000e+00 - val_loss: 2.5914e-19 - val_acc: 0.0000e+00\n",
      "Epoch 2/15\n",
      " - 1s - loss: 2.3539e-19 - acc: 0.0000e+00 - val_loss: 2.5914e-19 - val_acc: 0.0000e+00\n",
      "Epoch 3/15\n",
      " - 1s - loss: 2.3947e-19 - acc: 0.0000e+00 - val_loss: 2.2476e-19 - val_acc: 0.0000e+00\n",
      "Epoch 4/15\n",
      " - 1s - loss: 4.7077e-19 - acc: 0.0000e+00 - val_loss: 2.2476e-19 - val_acc: 0.0000e+00\n",
      "Epoch 5/15\n",
      " - 1s - loss: 7.3330e-19 - acc: 0.0000e+00 - val_loss: 2.7237e-18 - val_acc: 0.0000e+00\n",
      "Epoch 6/15\n",
      " - 1s - loss: 4.1134e-09 - acc: 0.0000e+00 - val_loss: 1.3119e-16 - val_acc: 0.0000e+00\n",
      "5000/5000 [==============================] - 0s 27us/step\n",
      "Train on 36000 samples, validate on 9000 samples\n",
      "Epoch 1/15\n",
      " - 3s - loss: 1.4241e-06 - acc: 0.0000e+00 - val_loss: 4.6642e-19 - val_acc: 0.0000e+00\n",
      "Epoch 2/15\n",
      " - 1s - loss: 4.6123e-19 - acc: 0.0000e+00 - val_loss: 4.6642e-19 - val_acc: 0.0000e+00\n",
      "Epoch 3/15\n",
      " - 1s - loss: 9.5487e-19 - acc: 0.0000e+00 - val_loss: 4.6642e-19 - val_acc: 0.0000e+00\n",
      "Epoch 4/15\n",
      " - 1s - loss: 5.5085e-18 - acc: 0.0000e+00 - val_loss: 7.9063e-17 - val_acc: 0.0000e+00\n",
      "5000/5000 [==============================] - 0s 32us/step\n",
      "Train on 36000 samples, validate on 9000 samples\n",
      "Epoch 1/15\n",
      " - 3s - loss: 8.1966e-08 - acc: 0.0000e+00 - val_loss: 8.4085e-19 - val_acc: 0.0000e+00\n",
      "Epoch 2/15\n",
      " - 1s - loss: 9.2800e-09 - acc: 0.0000e+00 - val_loss: 1.7343e-13 - val_acc: 0.0000e+00\n",
      "Epoch 3/15\n",
      " - 1s - loss: 1.7146e-08 - acc: 0.0000e+00 - val_loss: 1.0857e-11 - val_acc: 0.0000e+00\n",
      "Epoch 4/15\n",
      " - 2s - loss: 1.4392e-08 - acc: 0.0000e+00 - val_loss: 4.7295e-16 - val_acc: 0.0000e+00\n",
      "5000/5000 [==============================] - 0s 29us/step\n",
      "Train on 36000 samples, validate on 9000 samples\n",
      "Epoch 1/15\n",
      " - 3s - loss: 3.1347e-06 - acc: 0.0000e+00 - val_loss: 7.1799e-17 - val_acc: 0.0000e+00\n",
      "Epoch 2/15\n",
      " - 1s - loss: 7.0648e-17 - acc: 0.0000e+00 - val_loss: 7.6690e-17 - val_acc: 0.0000e+00\n",
      "Epoch 3/15\n",
      " - 1s - loss: 7.9654e-17 - acc: 0.0000e+00 - val_loss: 7.3366e-17 - val_acc: 0.0000e+00\n",
      "Epoch 4/15\n",
      " - 2s - loss: 9.6658e-17 - acc: 0.0000e+00 - val_loss: 1.3460e-16 - val_acc: 0.0000e+00\n",
      "5000/5000 [==============================] - 0s 35us/step\n",
      "Train on 36000 samples, validate on 9000 samples\n",
      "Epoch 1/15\n",
      " - 3s - loss: 1.0970e-07 - acc: 0.0000e+00 - val_loss: 4.7348e-19 - val_acc: 0.0000e+00\n",
      "Epoch 2/15\n",
      " - 1s - loss: 1.0745e-18 - acc: 0.0000e+00 - val_loss: 2.0294e-17 - val_acc: 0.0000e+00\n",
      "Epoch 3/15\n",
      " - 1s - loss: 3.0202e-09 - acc: 0.0000e+00 - val_loss: 6.5647e-19 - val_acc: 0.0000e+00\n",
      "Epoch 4/15\n",
      " - 1s - loss: 6.2359e-09 - acc: 0.0000e+00 - val_loss: 1.6465e-12 - val_acc: 0.0000e+00\n",
      "5000/5000 [==============================] - 0s 29us/step\n",
      "Train on 36000 samples, validate on 9000 samples\n",
      "Epoch 1/15\n",
      " - 3s - loss: 7.4660e-06 - acc: 0.0000e+00 - val_loss: 6.7376e-17 - val_acc: 0.0000e+00\n",
      "Epoch 2/15\n",
      " - 2s - loss: 7.0045e-17 - acc: 0.0000e+00 - val_loss: 6.7376e-17 - val_acc: 0.0000e+00\n",
      "Epoch 3/15\n",
      " - 1s - loss: 7.2030e-17 - acc: 0.0000e+00 - val_loss: 7.4886e-17 - val_acc: 0.0000e+00\n",
      "Epoch 4/15\n",
      " - 1s - loss: 7.9199e-17 - acc: 0.0000e+00 - val_loss: 7.5479e-17 - val_acc: 0.0000e+00\n",
      "5000/5000 [==============================] - 0s 27us/step\n",
      "Train on 36000 samples, validate on 9000 samples\n",
      "Epoch 1/15\n",
      " - 3s - loss: 6.7859e-06 - acc: 0.0000e+00 - val_loss: 6.8684e-17 - val_acc: 0.0000e+00\n",
      "Epoch 2/15\n",
      " - 1s - loss: 7.1926e-17 - acc: 0.0000e+00 - val_loss: 9.8246e-17 - val_acc: 0.0000e+00\n",
      "Epoch 3/15\n",
      " - 1s - loss: 8.3526e-17 - acc: 0.0000e+00 - val_loss: 7.3408e-17 - val_acc: 0.0000e+00\n",
      "Epoch 4/15\n",
      " - 2s - loss: 1.0303e-16 - acc: 0.0000e+00 - val_loss: 1.8372e-16 - val_acc: 0.0000e+00\n",
      "5000/5000 [==============================] - 0s 30us/step\n",
      "Train on 36000 samples, validate on 9000 samples\n",
      "Epoch 1/15\n",
      " - 3s - loss: 2.3464e-08 - acc: 0.0000e+00 - val_loss: 6.7904e-10 - val_acc: 0.0000e+00\n",
      "Epoch 2/15\n",
      " - 2s - loss: 1.0193e-08 - acc: 0.0000e+00 - val_loss: 6.2906e-17 - val_acc: 0.0000e+00\n",
      "Epoch 3/15\n",
      " - 2s - loss: 1.0835e-08 - acc: 0.0000e+00 - val_loss: 1.9213e-15 - val_acc: 0.0000e+00\n",
      "Epoch 4/15\n",
      " - 1s - loss: 8.6659e-09 - acc: 0.0000e+00 - val_loss: 1.1178e-16 - val_acc: 0.0000e+00\n",
      "Epoch 5/15\n",
      " - 1s - loss: 8.9208e-09 - acc: 0.0000e+00 - val_loss: 1.5597e-15 - val_acc: 0.0000e+00\n",
      "5000/5000 [==============================] - 0s 29us/step\n"
     ]
    },
    {
     "name": "stderr",
     "output_type": "stream",
     "text": [
      "/home/pooja/.local/lib/python3.5/site-packages/IPython/core/interactiveshell.py:3296: DtypeWarning: Columns (0,1,2,3,4,5,6,7,8,9,10,11,12,13,14,15,16,17,18,19,20,21,22,23,24,25,26,27,28,29,30,31,32,33,34,35) have mixed types. Specify dtype option on import or set low_memory=False.\n",
      "  exec(code_obj, self.user_global_ns, self.user_ns)\n",
      "/home/pooja/.local/lib/python3.5/site-packages/IPython/core/interactiveshell.py:3296: DtypeWarning: Columns (0,1,2,3,4,5,6,7,8,9,10,11,12,13,14,15,16,17,18,19,20,21,22,23,24,25,26,27,28,29,30,31,32,33,34,35) have mixed types. Specify dtype option on import or set low_memory=False.\n",
      "  exec(code_obj, self.user_global_ns, self.user_ns)\n",
      "/home/pooja/.local/lib/python3.5/site-packages/IPython/core/interactiveshell.py:3296: DtypeWarning: Columns (0,1,2,3,4,5,6,7,8,9,10,11,12,13,14,15,16,17,18,19,20,21,22,23,24,25,26,27,28,29,30,31,32,33,34,35) have mixed types. Specify dtype option on import or set low_memory=False.\n",
      "  exec(code_obj, self.user_global_ns, self.user_ns)\n",
      "/home/pooja/.local/lib/python3.5/site-packages/IPython/core/interactiveshell.py:3296: DtypeWarning: Columns (0,1,2,3,4,5,6,7,8,9,10,11,12,13,14,15,16,17,18,19,20,21,22,23,24,25,26,27,28,29,30,31,32,33,34,35) have mixed types. Specify dtype option on import or set low_memory=False.\n",
      "  exec(code_obj, self.user_global_ns, self.user_ns)\n",
      "/home/pooja/.local/lib/python3.5/site-packages/IPython/core/interactiveshell.py:3296: DtypeWarning: Columns (0,1,2,3,4,5,6,7,8,9,10,11,12,13,14,15,16,17,18,19,20,21,22,23,24,25,26,27,28,29,30,31,32,33,34,35) have mixed types. Specify dtype option on import or set low_memory=False.\n",
      "  exec(code_obj, self.user_global_ns, self.user_ns)\n",
      "/home/pooja/.local/lib/python3.5/site-packages/IPython/core/interactiveshell.py:3296: DtypeWarning: Columns (0,1,2,3,4,5,6,7,8,9,10,11,12,13,14,15,16,17,18,19,20,21,22,23,24,25,26,27,28,29,30,31,32,33,34,35) have mixed types. Specify dtype option on import or set low_memory=False.\n",
      "  exec(code_obj, self.user_global_ns, self.user_ns)\n",
      "/home/pooja/.local/lib/python3.5/site-packages/IPython/core/interactiveshell.py:3296: DtypeWarning: Columns (0,1,2,3,4,5,6,7,8,9,10,11,12,13,14,15,16,17,18,19,20,21,22,23,24,25,26,27,28,29,30,31,32,33,34,35) have mixed types. Specify dtype option on import or set low_memory=False.\n",
      "  exec(code_obj, self.user_global_ns, self.user_ns)\n",
      "/home/pooja/.local/lib/python3.5/site-packages/IPython/core/interactiveshell.py:3296: DtypeWarning: Columns (0,1,2,3,4,5,6,7,8,9,10,11,12,13,14,15,16,17,18,19,20,21,22,23,24,25,26,27,28,29,30,31,32,33,34,35) have mixed types. Specify dtype option on import or set low_memory=False.\n",
      "  exec(code_obj, self.user_global_ns, self.user_ns)\n",
      "/home/pooja/.local/lib/python3.5/site-packages/IPython/core/interactiveshell.py:3296: DtypeWarning: Columns (0,1,2,3,4,5,6,7,8,9,10,11,12,13,14,15,16,17,18,19,20,21,22,23,24,25,26,27,28,29,30,31,32,33,34,35) have mixed types. Specify dtype option on import or set low_memory=False.\n",
      "  exec(code_obj, self.user_global_ns, self.user_ns)\n"
     ]
    },
    {
     "name": "stdout",
     "output_type": "stream",
     "text": [
      "MEAN SQUARED ERROR 2.3354437e-16\n"
     ]
    },
    {
     "name": "stderr",
     "output_type": "stream",
     "text": [
      "/home/pooja/.local/lib/python3.5/site-packages/IPython/core/interactiveshell.py:3296: DtypeWarning: Columns (0,1,2,3,4,5,6,7,8,9,10,11,12,13,14,15,16,17,18,19,20,21,22,23,24,25,26) have mixed types. Specify dtype option on import or set low_memory=False.\n",
      "  exec(code_obj, self.user_global_ns, self.user_ns)\n",
      "/home/pooja/.local/lib/python3.5/site-packages/IPython/core/interactiveshell.py:3296: DtypeWarning: Columns (0,1,2,3,4,5,6,7,8,9,10,11,12,13,14,15,16,17,18,19,20,21,22,23,24,25,26,27,28,29,30,31,32,33,34,35) have mixed types. Specify dtype option on import or set low_memory=False.\n",
      "  exec(code_obj, self.user_global_ns, self.user_ns)\n",
      "/home/pooja/.local/lib/python3.5/site-packages/IPython/core/interactiveshell.py:3296: DtypeWarning: Columns (0,1,2,3,4,5,6,7,8,9,10,11,12,13,14,15,16,17,18,19,20,21,22,23,24,25,26,27,28,29,30,31,32,33,34,35) have mixed types. Specify dtype option on import or set low_memory=False.\n",
      "  exec(code_obj, self.user_global_ns, self.user_ns)\n",
      "/home/pooja/.local/lib/python3.5/site-packages/IPython/core/interactiveshell.py:3296: DtypeWarning: Columns (0,1,2,3,4,5,6,7,8,9,10,11,12,13,14,15,16,17,18,19,20,21,22,23,24,25,26,27,28,29,30,31,32,33,34,35) have mixed types. Specify dtype option on import or set low_memory=False.\n",
      "  exec(code_obj, self.user_global_ns, self.user_ns)\n",
      "/home/pooja/.local/lib/python3.5/site-packages/IPython/core/interactiveshell.py:3296: DtypeWarning: Columns (0,1,2,3,4,5,6,7,8,9,10,11,12,13,14,15,16,17,18,19,20,21,22,23,24,25,26,27,28,29,30,31,32,33,34,35) have mixed types. Specify dtype option on import or set low_memory=False.\n",
      "  exec(code_obj, self.user_global_ns, self.user_ns)\n",
      "/home/pooja/.local/lib/python3.5/site-packages/IPython/core/interactiveshell.py:3296: DtypeWarning: Columns (0,1,2,3,4,5,6,7,8,9,10,11,12,13,14,15,16,17,18,19,20,21,22,23,24,25,26,27,28,29,30,31,32,33,34,35) have mixed types. Specify dtype option on import or set low_memory=False.\n",
      "  exec(code_obj, self.user_global_ns, self.user_ns)\n",
      "/home/pooja/.local/lib/python3.5/site-packages/IPython/core/interactiveshell.py:3296: DtypeWarning: Columns (0,1,2,3,4,5,6,7,8,9,10,11,12,13,14,15,16,17,18,19,20,21,22,23,24,25,26,27,28,29,30,31,32,33,34,35) have mixed types. Specify dtype option on import or set low_memory=False.\n",
      "  exec(code_obj, self.user_global_ns, self.user_ns)\n",
      "/home/pooja/.local/lib/python3.5/site-packages/IPython/core/interactiveshell.py:3296: DtypeWarning: Columns (0,1,2,3,4,5,6,7,8,9,10,11,12,13,14,15,16,17,18,19,20,21,22,23,24,25,26,27,28,29,30,31,32,33,34,35) have mixed types. Specify dtype option on import or set low_memory=False.\n",
      "  exec(code_obj, self.user_global_ns, self.user_ns)\n",
      "/home/pooja/.local/lib/python3.5/site-packages/IPython/core/interactiveshell.py:3296: DtypeWarning: Columns (0,1,2,3,4,5,6,7,8,9,10,11,12,13,14,15,16,17,18,19,20,21,22,23,24,25,26,27,28,29,30,31,32,33,34,35) have mixed types. Specify dtype option on import or set low_memory=False.\n",
      "  exec(code_obj, self.user_global_ns, self.user_ns)\n",
      "/home/pooja/.local/lib/python3.5/site-packages/IPython/core/interactiveshell.py:3296: DtypeWarning: Columns (0,1,2,3,4,5,6,7,8,9,10,11,12,13,14,15,16,17,18,19,20,21,22,23,24,25,26,27,28,29,30,31,32,33,34,35) have mixed types. Specify dtype option on import or set low_memory=False.\n",
      "  exec(code_obj, self.user_global_ns, self.user_ns)\n"
     ]
    },
    {
     "name": "stdout",
     "output_type": "stream",
     "text": [
      "MEAN SQUARED ERROR 2.3275272e-16\n"
     ]
    },
    {
     "name": "stderr",
     "output_type": "stream",
     "text": [
      "/home/pooja/.local/lib/python3.5/site-packages/IPython/core/interactiveshell.py:3296: DtypeWarning: Columns (0,1,2,3,4,5,6,7,8,9,10,11,12,13,14,15,16,17,18,19,20,21,22,23,24,25,26) have mixed types. Specify dtype option on import or set low_memory=False.\n",
      "  exec(code_obj, self.user_global_ns, self.user_ns)\n"
     ]
    },
    {
     "name": "stdout",
     "output_type": "stream",
     "text": [
      "(5000, 6) (5000, 6)\n"
     ]
    },
    {
     "name": "stderr",
     "output_type": "stream",
     "text": [
      "/home/pooja/.local/lib/python3.5/site-packages/IPython/core/interactiveshell.py:3296: DtypeWarning: Columns (0,1,2,3,4,5,6,7,8,9,10,11,12,13,14,15,16,17,18,19,20,21,22,23,24,25,26,27,28,29,30,31,32,33,34,35) have mixed types. Specify dtype option on import or set low_memory=False.\n",
      "  exec(code_obj, self.user_global_ns, self.user_ns)\n"
     ]
    },
    {
     "name": "stdout",
     "output_type": "stream",
     "text": [
      "(5000,) (5000,)\n"
     ]
    },
    {
     "name": "stderr",
     "output_type": "stream",
     "text": [
      "/home/pooja/.local/lib/python3.5/site-packages/IPython/core/interactiveshell.py:3296: DtypeWarning: Columns (0,1,2,3,4,5,6,7,8,9,10,11,12,13,14,15,16,17,18,19,20,21,22,23,24,25,26,27,28,29,30,31,32,33,34,35) have mixed types. Specify dtype option on import or set low_memory=False.\n",
      "  exec(code_obj, self.user_global_ns, self.user_ns)\n"
     ]
    },
    {
     "name": "stdout",
     "output_type": "stream",
     "text": [
      "(5000,) (5000,)\n"
     ]
    },
    {
     "name": "stderr",
     "output_type": "stream",
     "text": [
      "/home/pooja/.local/lib/python3.5/site-packages/IPython/core/interactiveshell.py:3296: DtypeWarning: Columns (0,1,2,3,4,5,6,7,8,9,10,11,12,13,14,15,16,17,18,19,20,21,22,23,24,25,26,27,28,29,30,31,32,33,34,35) have mixed types. Specify dtype option on import or set low_memory=False.\n",
      "  exec(code_obj, self.user_global_ns, self.user_ns)\n"
     ]
    },
    {
     "name": "stdout",
     "output_type": "stream",
     "text": [
      "(5000,) (5000,)\n"
     ]
    },
    {
     "name": "stderr",
     "output_type": "stream",
     "text": [
      "/home/pooja/.local/lib/python3.5/site-packages/IPython/core/interactiveshell.py:3296: DtypeWarning: Columns (0,1,2,3,4,5,6,7,8,9,10,11,12,13,14,15,16,17,18,19,20,21,22,23,24,25,26,27,28,29,30,31,32,33,34,35) have mixed types. Specify dtype option on import or set low_memory=False.\n",
      "  exec(code_obj, self.user_global_ns, self.user_ns)\n"
     ]
    },
    {
     "name": "stdout",
     "output_type": "stream",
     "text": [
      "(5000,) (5000,)\n"
     ]
    },
    {
     "name": "stderr",
     "output_type": "stream",
     "text": [
      "/home/pooja/.local/lib/python3.5/site-packages/IPython/core/interactiveshell.py:3296: DtypeWarning: Columns (0,1,2,3,4,5,6,7,8,9,10,11,12,13,14,15,16,17,18,19,20,21,22,23,24,25,26,27,28,29,30,31,32,33,34,35) have mixed types. Specify dtype option on import or set low_memory=False.\n",
      "  exec(code_obj, self.user_global_ns, self.user_ns)\n"
     ]
    },
    {
     "name": "stdout",
     "output_type": "stream",
     "text": [
      "(5000,) (5000,)\n"
     ]
    },
    {
     "name": "stderr",
     "output_type": "stream",
     "text": [
      "/home/pooja/.local/lib/python3.5/site-packages/IPython/core/interactiveshell.py:3296: DtypeWarning: Columns (0,1,2,3,4,5,6,7,8,9,10,11,12,13,14,15,16,17,18,19,20,21,22,23,24,25,26,27,28,29,30,31,32,33,34,35) have mixed types. Specify dtype option on import or set low_memory=False.\n",
      "  exec(code_obj, self.user_global_ns, self.user_ns)\n"
     ]
    },
    {
     "name": "stdout",
     "output_type": "stream",
     "text": [
      "(5000,) (5000,)\n"
     ]
    },
    {
     "name": "stderr",
     "output_type": "stream",
     "text": [
      "/home/pooja/.local/lib/python3.5/site-packages/IPython/core/interactiveshell.py:3296: DtypeWarning: Columns (0,1,2,3,4,5,6,7,8,9,10,11,12,13,14,15,16,17,18,19,20,21,22,23,24,25,26,27,28,29,30,31,32,33,34,35) have mixed types. Specify dtype option on import or set low_memory=False.\n",
      "  exec(code_obj, self.user_global_ns, self.user_ns)\n"
     ]
    },
    {
     "name": "stdout",
     "output_type": "stream",
     "text": [
      "(5000,) (5000,)\n"
     ]
    },
    {
     "name": "stderr",
     "output_type": "stream",
     "text": [
      "/home/pooja/.local/lib/python3.5/site-packages/IPython/core/interactiveshell.py:3296: DtypeWarning: Columns (0,1,2,3,4,5,6,7,8,9,10,11,12,13,14,15,16,17,18,19,20,21,22,23,24,25,26,27,28,29,30,31,32,33,34,35) have mixed types. Specify dtype option on import or set low_memory=False.\n",
      "  exec(code_obj, self.user_global_ns, self.user_ns)\n"
     ]
    },
    {
     "name": "stdout",
     "output_type": "stream",
     "text": [
      "(5000,) (5000,)\n"
     ]
    },
    {
     "name": "stderr",
     "output_type": "stream",
     "text": [
      "/home/pooja/.local/lib/python3.5/site-packages/IPython/core/interactiveshell.py:3296: DtypeWarning: Columns (0,1,2,3,4,5,6,7,8,9,10,11,12,13,14,15,16,17,18,19,20,21,22,23,24,25,26,27,28,29,30,31,32,33,34,35) have mixed types. Specify dtype option on import or set low_memory=False.\n",
      "  exec(code_obj, self.user_global_ns, self.user_ns)\n"
     ]
    },
    {
     "name": "stdout",
     "output_type": "stream",
     "text": [
      "MEAN SQUARED ERROR 1.1969459e-14\n"
     ]
    },
    {
     "name": "stderr",
     "output_type": "stream",
     "text": [
      "/home/pooja/.local/lib/python3.5/site-packages/IPython/core/interactiveshell.py:3296: DtypeWarning: Columns (0,1,2,3,4,5,6,7,8,9,10,11,12,13,14,15,16,17,18,19,20,21,22,23,24,25,26) have mixed types. Specify dtype option on import or set low_memory=False.\n",
      "  exec(code_obj, self.user_global_ns, self.user_ns)\n",
      "/home/pooja/.local/lib/python3.5/site-packages/IPython/core/interactiveshell.py:3296: DtypeWarning: Columns (0,1,2,3,4,5,6,7,8,9,10,11,12,13,14,15,16,17,18,19,20,21,22,23,24,25,26,27,28,29,30,31,32,33,34,35) have mixed types. Specify dtype option on import or set low_memory=False.\n",
      "  exec(code_obj, self.user_global_ns, self.user_ns)\n",
      "/home/pooja/.local/lib/python3.5/site-packages/IPython/core/interactiveshell.py:3296: DtypeWarning: Columns (0,1,2,3,4,5,6,7,8,9,10,11,12,13,14,15,16,17,18,19,20,21,22,23,24,25,26,27,28,29,30,31,32,33,34,35) have mixed types. Specify dtype option on import or set low_memory=False.\n",
      "  exec(code_obj, self.user_global_ns, self.user_ns)\n",
      "/home/pooja/.local/lib/python3.5/site-packages/IPython/core/interactiveshell.py:3296: DtypeWarning: Columns (0,1,2,3,4,5,6,7,8,9,10,11,12,13,14,15,16,17,18,19,20,21,22,23,24,25,26,27,28,29,30,31,32,33,34,35) have mixed types. Specify dtype option on import or set low_memory=False.\n",
      "  exec(code_obj, self.user_global_ns, self.user_ns)\n",
      "/home/pooja/.local/lib/python3.5/site-packages/IPython/core/interactiveshell.py:3296: DtypeWarning: Columns (0,1,2,3,4,5,6,7,8,9,10,11,12,13,14,15,16,17,18,19,20,21,22,23,24,25,26,27,28,29,30,31,32,33,34,35) have mixed types. Specify dtype option on import or set low_memory=False.\n",
      "  exec(code_obj, self.user_global_ns, self.user_ns)\n",
      "/home/pooja/.local/lib/python3.5/site-packages/IPython/core/interactiveshell.py:3296: DtypeWarning: Columns (0,1,2,3,4,5,6,7,8,9,10,11,12,13,14,15,16,17,18,19,20,21,22,23,24,25,26,27,28,29,30,31,32,33,34,35) have mixed types. Specify dtype option on import or set low_memory=False.\n",
      "  exec(code_obj, self.user_global_ns, self.user_ns)\n",
      "/home/pooja/.local/lib/python3.5/site-packages/IPython/core/interactiveshell.py:3296: DtypeWarning: Columns (0,1,2,3,4,5,6,7,8,9,10,11,12,13,14,15,16,17,18,19,20,21,22,23,24,25,26,27,28,29,30,31,32,33,34,35) have mixed types. Specify dtype option on import or set low_memory=False.\n",
      "  exec(code_obj, self.user_global_ns, self.user_ns)\n",
      "/home/pooja/.local/lib/python3.5/site-packages/IPython/core/interactiveshell.py:3296: DtypeWarning: Columns (0,1,2,3,4,5,6,7,8,9,10,11,12,13,14,15,16,17,18,19,20,21,22,23,24,25,26,27,28,29,30,31,32,33,34,35) have mixed types. Specify dtype option on import or set low_memory=False.\n",
      "  exec(code_obj, self.user_global_ns, self.user_ns)\n",
      "/home/pooja/.local/lib/python3.5/site-packages/IPython/core/interactiveshell.py:3296: DtypeWarning: Columns (0,1,2,3,4,5,6,7,8,9,10,11,12,13,14,15,16,17,18,19,20,21,22,23,24,25,26,27,28,29,30,31,32,33,34,35) have mixed types. Specify dtype option on import or set low_memory=False.\n",
      "  exec(code_obj, self.user_global_ns, self.user_ns)\n",
      "/home/pooja/.local/lib/python3.5/site-packages/IPython/core/interactiveshell.py:3296: DtypeWarning: Columns (0,1,2,3,4,5,6,7,8,9,10,11,12,13,14,15,16,17,18,19,20,21,22,23,24,25,26,27,28,29,30,31,32,33,34,35) have mixed types. Specify dtype option on import or set low_memory=False.\n",
      "  exec(code_obj, self.user_global_ns, self.user_ns)\n"
     ]
    },
    {
     "name": "stdout",
     "output_type": "stream",
     "text": [
      "MEAN SQUARED ERROR 2.3355774e-16\n"
     ]
    },
    {
     "name": "stderr",
     "output_type": "stream",
     "text": [
      "/home/pooja/.local/lib/python3.5/site-packages/IPython/core/interactiveshell.py:3296: DtypeWarning: Columns (0,1,2,3,4,5,6,7,8,9,10,11,12,13,14,15,16,17,18,19,20,21,22,23,24,25) have mixed types. Specify dtype option on import or set low_memory=False.\n",
      "  exec(code_obj, self.user_global_ns, self.user_ns)\n"
     ]
    },
    {
     "name": "stdout",
     "output_type": "stream",
     "text": [
      "Train on 36000 samples, validate on 9000 samples\n",
      "Epoch 1/15\n",
      " - 3s - loss: 1.2561e-07 - acc: 0.8027 - val_loss: 7.3480e-14 - val_acc: 1.0000\n",
      "Epoch 2/15\n",
      " - 2s - loss: 6.5067e-10 - acc: 0.6764 - val_loss: 1.5521e-10 - val_acc: 1.0000\n",
      "Epoch 3/15\n",
      " - 2s - loss: 1.9759e-09 - acc: 0.5031 - val_loss: 3.1793e-10 - val_acc: 1.0000\n",
      "Epoch 4/15\n",
      " - 2s - loss: 2.4100e-09 - acc: 0.5138 - val_loss: 1.9194e-13 - val_acc: 1.0000\n",
      "5000/5000 [==============================] - 0s 30us/step\n"
     ]
    },
    {
     "name": "stderr",
     "output_type": "stream",
     "text": [
      "/home/pooja/.local/lib/python3.5/site-packages/IPython/core/interactiveshell.py:3296: DtypeWarning: Columns (0,1,2,3,4,5,6,7,8,9,10,11,12,13,14,15,16,17,18,19,20,21,22,23,24,25,26,27,28,29,30,31,32) have mixed types. Specify dtype option on import or set low_memory=False.\n",
      "  exec(code_obj, self.user_global_ns, self.user_ns)\n"
     ]
    },
    {
     "name": "stdout",
     "output_type": "stream",
     "text": [
      "Train on 36000 samples, validate on 9000 samples\n",
      "Epoch 1/15\n",
      " - 3s - loss: 5.0665e-06 - acc: 0.0000e+00 - val_loss: 8.9575e-16 - val_acc: 0.0000e+00\n",
      "Epoch 2/15\n",
      " - 2s - loss: 8.8001e-16 - acc: 0.0000e+00 - val_loss: 8.7333e-16 - val_acc: 0.0000e+00\n",
      "Epoch 3/15\n",
      " - 2s - loss: 9.0634e-16 - acc: 0.0000e+00 - val_loss: 8.8367e-16 - val_acc: 0.0000e+00\n",
      "Epoch 4/15\n",
      " - 1s - loss: 9.6459e-16 - acc: 0.0000e+00 - val_loss: 8.8455e-16 - val_acc: 0.0000e+00\n",
      "Epoch 5/15\n",
      " - 1s - loss: 1.3275e-15 - acc: 0.0000e+00 - val_loss: 2.9761e-15 - val_acc: 0.0000e+00\n",
      "5000/5000 [==============================] - 0s 26us/step\n",
      "Train on 36000 samples, validate on 9000 samples\n",
      "Epoch 1/15\n",
      " - 4s - loss: 5.6127e-07 - acc: 0.0000e+00 - val_loss: 2.3454e-16 - val_acc: 0.0000e+00\n",
      "Epoch 2/15\n",
      " - 2s - loss: 2.6816e-16 - acc: 0.0000e+00 - val_loss: 2.8930e-16 - val_acc: 0.0000e+00\n",
      "Epoch 3/15\n",
      " - 2s - loss: 3.0873e-16 - acc: 0.0000e+00 - val_loss: 5.7555e-16 - val_acc: 0.0000e+00\n",
      "Epoch 4/15\n",
      " - 2s - loss: 4.0538e-16 - acc: 0.0000e+00 - val_loss: 7.6978e-16 - val_acc: 0.0000e+00\n",
      "5000/5000 [==============================] - 0s 37us/step\n",
      "Train on 36000 samples, validate on 9000 samples\n",
      "Epoch 1/15\n",
      " - 4s - loss: 2.3439e-06 - acc: 0.0000e+00 - val_loss: 2.0417e-16 - val_acc: 0.0000e+00\n",
      "Epoch 2/15\n",
      " - 2s - loss: 2.1663e-16 - acc: 0.0000e+00 - val_loss: 1.9920e-16 - val_acc: 0.0000e+00\n",
      "Epoch 3/15\n",
      " - 1s - loss: 2.4578e-16 - acc: 0.0000e+00 - val_loss: 2.0053e-16 - val_acc: 0.0000e+00\n",
      "Epoch 4/15\n",
      " - 1s - loss: 3.5097e-16 - acc: 0.0000e+00 - val_loss: 2.0417e-16 - val_acc: 0.0000e+00\n",
      "Epoch 5/15\n",
      " - 2s - loss: 3.3711e-09 - acc: 0.0000e+00 - val_loss: 1.4471e-14 - val_acc: 0.0000e+00\n",
      "5000/5000 [==============================] - 0s 31us/step\n"
     ]
    },
    {
     "name": "stderr",
     "output_type": "stream",
     "text": [
      "/home/pooja/.local/lib/python3.5/site-packages/IPython/core/interactiveshell.py:3296: DtypeWarning: Columns (0,1,2,3,4,5,6,7,8,9,10,11,12,13,14,15,16,17,18,19,20,21,22,23,24,25,26,27,28,29,30,31,32,33) have mixed types. Specify dtype option on import or set low_memory=False.\n",
      "  exec(code_obj, self.user_global_ns, self.user_ns)\n"
     ]
    },
    {
     "name": "stdout",
     "output_type": "stream",
     "text": [
      "Train on 36000 samples, validate on 9000 samples\n",
      "Epoch 1/15\n",
      " - 4s - loss: 0.0553 - acc: 0.9253 - val_loss: 1.2790e-13 - val_acc: 1.0000\n",
      "Epoch 2/15\n",
      " - 1s - loss: 4.4136e-14 - acc: 1.0000 - val_loss: 1.4211e-14 - val_acc: 1.0000\n",
      "Epoch 3/15\n",
      " - 1s - loss: 9.7518e-15 - acc: 1.0000 - val_loss: 0.0000e+00 - val_acc: 1.0000\n",
      "Epoch 4/15\n",
      " - 2s - loss: 0.0000e+00 - acc: 1.0000 - val_loss: 0.0000e+00 - val_acc: 1.0000\n",
      "Epoch 5/15\n",
      " - 2s - loss: 0.0000e+00 - acc: 1.0000 - val_loss: 0.0000e+00 - val_acc: 1.0000\n",
      "Epoch 6/15\n",
      " - 2s - loss: 0.0000e+00 - acc: 1.0000 - val_loss: 0.0000e+00 - val_acc: 1.0000\n",
      "5000/5000 [==============================] - 0s 29us/step\n"
     ]
    },
    {
     "name": "stderr",
     "output_type": "stream",
     "text": [
      "/home/pooja/.local/lib/python3.5/site-packages/IPython/core/interactiveshell.py:3296: DtypeWarning: Columns (0,1,2,3,4,5,6,7,8,9,10,11,12,13,14,15,16,17,18,19,20,21,22,23,24,25,26,27,28,29,30,31,32) have mixed types. Specify dtype option on import or set low_memory=False.\n",
      "  exec(code_obj, self.user_global_ns, self.user_ns)\n",
      "/home/pooja/.local/lib/python3.5/site-packages/IPython/core/interactiveshell.py:3296: DtypeWarning: Columns (0,1,2,3,4,5,6,7,8,9,10,11,12,13,14,15,16,17,18,19,20,21,22,23,24,25,26,27,28,29,30,31,32) have mixed types. Specify dtype option on import or set low_memory=False.\n",
      "  exec(code_obj, self.user_global_ns, self.user_ns)\n",
      "/home/pooja/.local/lib/python3.5/site-packages/IPython/core/interactiveshell.py:3296: DtypeWarning: Columns (0,1,2,3,4,5,6,7,8,9,10,11,12,13,14,15,16,17,18,19,20,21,22,23,24,25,26,27,28,29,30,31,32) have mixed types. Specify dtype option on import or set low_memory=False.\n",
      "  exec(code_obj, self.user_global_ns, self.user_ns)\n",
      "/home/pooja/.local/lib/python3.5/site-packages/IPython/core/interactiveshell.py:3296: DtypeWarning: Columns (0,1,2,3,4,5,6,7,8,9,10,11,12,13,14,15,16,17,18,19,20,21,22,23,24,25,26,27,28,29,30,31,32,33) have mixed types. Specify dtype option on import or set low_memory=False.\n",
      "  exec(code_obj, self.user_global_ns, self.user_ns)\n"
     ]
    },
    {
     "name": "stdout",
     "output_type": "stream",
     "text": [
      "MEAN SQUARED ERROR 6.670166761678655e-14\n"
     ]
    },
    {
     "name": "stderr",
     "output_type": "stream",
     "text": [
      "/home/pooja/.local/lib/python3.5/site-packages/IPython/core/interactiveshell.py:3296: DtypeWarning: Columns (0,1,2,3,4,5,6,7,8,9,10,11,12,13,14,15,16,17,18,19,20,21,22,23,24,25) have mixed types. Specify dtype option on import or set low_memory=False.\n",
      "  exec(code_obj, self.user_global_ns, self.user_ns)\n",
      "/home/pooja/.local/lib/python3.5/site-packages/IPython/core/interactiveshell.py:3296: DtypeWarning: Columns (0,1,2,3,4,5,6,7,8,9,10,11,12,13,14,15,16,17,18,19,20,21,22,23,24,25,26,27,28,29,30,31,32) have mixed types. Specify dtype option on import or set low_memory=False.\n",
      "  exec(code_obj, self.user_global_ns, self.user_ns)\n",
      "/home/pooja/.local/lib/python3.5/site-packages/IPython/core/interactiveshell.py:3296: DtypeWarning: Columns (0,1,2,3,4,5,6,7,8,9,10,11,12,13,14,15,16,17,18,19,20,21,22,23,24,25,26,27,28,29,30,31,32) have mixed types. Specify dtype option on import or set low_memory=False.\n",
      "  exec(code_obj, self.user_global_ns, self.user_ns)\n",
      "/home/pooja/.local/lib/python3.5/site-packages/IPython/core/interactiveshell.py:3296: DtypeWarning: Columns (0,1,2,3,4,5,6,7,8,9,10,11,12,13,14,15,16,17,18,19,20,21,22,23,24,25,26,27,28,29,30,31,32) have mixed types. Specify dtype option on import or set low_memory=False.\n",
      "  exec(code_obj, self.user_global_ns, self.user_ns)\n",
      "/home/pooja/.local/lib/python3.5/site-packages/IPython/core/interactiveshell.py:3296: DtypeWarning: Columns (0,1,2,3,4,5,6,7,8,9,10,11,12,13,14,15,16,17,18,19,20,21,22,23,24,25,26,27,28,29,30,31,32,33) have mixed types. Specify dtype option on import or set low_memory=False.\n",
      "  exec(code_obj, self.user_global_ns, self.user_ns)\n"
     ]
    },
    {
     "name": "stdout",
     "output_type": "stream",
     "text": [
      "MEAN SQUARED ERROR 6.6628676e-14\n"
     ]
    },
    {
     "name": "stderr",
     "output_type": "stream",
     "text": [
      "/home/pooja/.local/lib/python3.5/site-packages/IPython/core/interactiveshell.py:3296: DtypeWarning: Columns (0,1,2,3,4,5,6,7,8,9,10,11,12,13,14,15,16,17,18,19,20,21,22,23,24,25) have mixed types. Specify dtype option on import or set low_memory=False.\n",
      "  exec(code_obj, self.user_global_ns, self.user_ns)\n"
     ]
    },
    {
     "name": "stdout",
     "output_type": "stream",
     "text": [
      "(5000, 4) (5000, 4)\n"
     ]
    },
    {
     "name": "stderr",
     "output_type": "stream",
     "text": [
      "/home/pooja/.local/lib/python3.5/site-packages/IPython/core/interactiveshell.py:3296: DtypeWarning: Columns (0,1,2,3,4,5,6,7,8,9,10,11,12,13,14,15,16,17,18,19,20,21,22,23,24,25,26,27,28,29,30,31,32) have mixed types. Specify dtype option on import or set low_memory=False.\n",
      "  exec(code_obj, self.user_global_ns, self.user_ns)\n"
     ]
    },
    {
     "name": "stdout",
     "output_type": "stream",
     "text": [
      "(5000,) (5000,)\n"
     ]
    },
    {
     "name": "stderr",
     "output_type": "stream",
     "text": [
      "/home/pooja/.local/lib/python3.5/site-packages/IPython/core/interactiveshell.py:3296: DtypeWarning: Columns (0,1,2,3,4,5,6,7,8,9,10,11,12,13,14,15,16,17,18,19,20,21,22,23,24,25,26,27,28,29,30,31,32) have mixed types. Specify dtype option on import or set low_memory=False.\n",
      "  exec(code_obj, self.user_global_ns, self.user_ns)\n"
     ]
    },
    {
     "name": "stdout",
     "output_type": "stream",
     "text": [
      "(5000,) (5000,)\n"
     ]
    },
    {
     "name": "stderr",
     "output_type": "stream",
     "text": [
      "/home/pooja/.local/lib/python3.5/site-packages/IPython/core/interactiveshell.py:3296: DtypeWarning: Columns (0,1,2,3,4,5,6,7,8,9,10,11,12,13,14,15,16,17,18,19,20,21,22,23,24,25,26,27,28,29,30,31,32) have mixed types. Specify dtype option on import or set low_memory=False.\n",
      "  exec(code_obj, self.user_global_ns, self.user_ns)\n"
     ]
    },
    {
     "name": "stdout",
     "output_type": "stream",
     "text": [
      "(5000,) (5000,)\n"
     ]
    },
    {
     "name": "stderr",
     "output_type": "stream",
     "text": [
      "/home/pooja/.local/lib/python3.5/site-packages/IPython/core/interactiveshell.py:3296: DtypeWarning: Columns (0,1,2,3,4,5,6,7,8,9,10,11,12,13,14,15,16,17,18,19,20,21,22,23,24,25,26,27,28,29,30,31,32,33) have mixed types. Specify dtype option on import or set low_memory=False.\n",
      "  exec(code_obj, self.user_global_ns, self.user_ns)\n"
     ]
    },
    {
     "name": "stdout",
     "output_type": "stream",
     "text": [
      "(5000,) (5000,)\n",
      "MEAN SQUARED ERROR 2.29631318423302e-12\n"
     ]
    },
    {
     "name": "stderr",
     "output_type": "stream",
     "text": [
      "/home/pooja/.local/lib/python3.5/site-packages/IPython/core/interactiveshell.py:3296: DtypeWarning: Columns (0,1,2,3,4,5,6,7,8,9,10,11,12,13,14,15,16,17,18,19,20,21,22,23,24,25) have mixed types. Specify dtype option on import or set low_memory=False.\n",
      "  exec(code_obj, self.user_global_ns, self.user_ns)\n",
      "/home/pooja/.local/lib/python3.5/site-packages/IPython/core/interactiveshell.py:3296: DtypeWarning: Columns (0,1,2,3,4,5,6,7,8,9,10,11,12,13,14,15,16,17,18,19,20,21,22,23,24,25,26,27,28,29,30,31,32) have mixed types. Specify dtype option on import or set low_memory=False.\n",
      "  exec(code_obj, self.user_global_ns, self.user_ns)\n",
      "/home/pooja/.local/lib/python3.5/site-packages/IPython/core/interactiveshell.py:3296: DtypeWarning: Columns (0,1,2,3,4,5,6,7,8,9,10,11,12,13,14,15,16,17,18,19,20,21,22,23,24,25,26,27,28,29,30,31,32) have mixed types. Specify dtype option on import or set low_memory=False.\n",
      "  exec(code_obj, self.user_global_ns, self.user_ns)\n",
      "/home/pooja/.local/lib/python3.5/site-packages/IPython/core/interactiveshell.py:3296: DtypeWarning: Columns (0,1,2,3,4,5,6,7,8,9,10,11,12,13,14,15,16,17,18,19,20,21,22,23,24,25,26,27,28,29,30,31,32) have mixed types. Specify dtype option on import or set low_memory=False.\n",
      "  exec(code_obj, self.user_global_ns, self.user_ns)\n"
     ]
    },
    {
     "name": "stdout",
     "output_type": "stream",
     "text": [
      "MEAN SQUARED ERROR 6.670147326479663e-14\n",
      "{'XOR2': [None, 6.670166761678655e-14, 6.6628676e-14, 2.29631318423302e-12, 6.670147326479663e-14], 'AND3': [None, 2.3354437e-16, 2.3275272e-16, 1.1969459e-14, 2.3355774e-16]}\n"
     ]
    },
    {
     "name": "stderr",
     "output_type": "stream",
     "text": [
      "/home/pooja/.local/lib/python3.5/site-packages/IPython/core/interactiveshell.py:3296: DtypeWarning: Columns (0,1,2,3,4,5,6,7,8,9,10,11,12,13,14,15,16,17,18,19,20,21,22,23,24,25,26,27,28,29,30,31,32,33) have mixed types. Specify dtype option on import or set low_memory=False.\n",
      "  exec(code_obj, self.user_global_ns, self.user_ns)\n"
     ]
    }
   ],
   "source": [
    "gates = [\"AND3\", \"XOR2\"]\n",
    "models = [\"NN\", \"RF\", \"LR\", \"SVM\", \"DT\"]\n",
    "\n",
    "\n",
    "res = {}\n",
    "\n",
    "for gate in gates:\n",
    "    for model in models:\n",
    "        if gate not in res:\n",
    "            res[gate] = []\n",
    "        res[gate].append(run(model, gate))\n",
    "\n",
    "print(res)\n",
    "    "
   ]
  }
 ],
 "metadata": {
  "kernelspec": {
   "display_name": "Python 3",
   "language": "python",
   "name": "python3"
  },
  "language_info": {
   "codemirror_mode": {
    "name": "ipython",
    "version": 3
   },
   "file_extension": ".py",
   "mimetype": "text/x-python",
   "name": "python",
   "nbconvert_exporter": "python",
   "pygments_lexer": "ipython3",
   "version": "3.5.2"
  }
 },
 "nbformat": 4,
 "nbformat_minor": 2
}
